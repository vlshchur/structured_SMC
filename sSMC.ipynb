{
 "cells": [
  {
   "cell_type": "code",
   "execution_count": 4,
   "id": "cf48aa69",
   "metadata": {},
   "outputs": [],
   "source": [
    "#from sSMC import MarginalDistr\n",
    "import numpy as np\n",
    "from numpy import dot\n",
    "\n",
    "from scipy import linalg\n",
    "from numpy import linalg as np_linalg\n",
    "from scipy.integrate import odeint\n",
    "\n",
    "import matplotlib.pyplot as plt\n",
    "import seaborn as sns\n",
    "\n",
    "\n",
    "class MarginalDistr:\n",
    "\n",
    "    def __init__(self, la1, la2, mu1, mu2):\n",
    "        #mu1, mu2 - migration  rates\n",
    "        #la1, la2 - coalescent rates\n",
    "        #init_cond - vector of length 3\n",
    "        self.la1 = la1\n",
    "        self.la2 = la2\n",
    "        \n",
    "        self.mu1 = mu1\n",
    "        self.mu2 = mu2\n",
    "\n",
    "        #self.init_cond = np.array(init_cond)/sum(init_cond)\n",
    "\n",
    "        self.SetMatrix(0.0)\n",
    "\n",
    "    def m1(self, t):\n",
    "        return self.mu1\n",
    "\n",
    "    def m2(self, t):\n",
    "        return self.mu2\n",
    "\n",
    "    def l1(self, t):\n",
    "        return self.la1\n",
    "\n",
    "    def l2(self, t):\n",
    "        return self.la2\n",
    "\n",
    "    def SetMatrix(self, t):\n",
    "        self.A = np.matrix( [[-2*self.m1(t)-self.l1(t), 0, self.m2(t)],\n",
    "                             [0, -2*self.m2(t)-self.l2(t), self.m1(t)],\n",
    "                             [2*self.m1(t), 2*self.m2(t), -self.m1(t) - self.m2(t)]] )\n",
    "\n",
    "    def CalcProb(self, t, init_cond):\n",
    "        MET = linalg.expm( dot(self.A, t) )\n",
    "        return dot(MET, init_cond)\n",
    "\n",
    "    def CalcDist(self, num_steps, step, init_cond):\n",
    "        pr_dist = np.zeros(num_steps+1)\n",
    "        MET = linalg.expm( dot(self.A, step) )\n",
    "        for i in range(num_steps):\n",
    "            pr_dist[i] = self.la1*init_cond[0]+self.la2*init_cond[1]\n",
    "            init_cond = dot(MET, init_cond)\n",
    "        pr_dist[num_steps] = self.la1*init_cond[0]+self.la2*init_cond[1]\n",
    "        return pr_dist"
   ]
  },
  {
   "cell_type": "code",
   "execution_count": 2,
   "id": "6305e533",
   "metadata": {},
   "outputs": [],
   "source": [
    "class lineage:\n",
    "    def __init__(self, a, b, p):\n",
    "        #a and b indicates ancestral material (1) or non-ancestral (0)\n",
    "        self.a = a\n",
    "        self.b = b\n",
    "        self.p = p#0 or 1 population\n",
    "\n",
    "    def __str__(self):\n",
    "        return str(self.a)+str(self.b)+str(self.p)\n",
    "\n",
    "class state:\n",
    "    def __init__(self, lng):\n",
    "        self.lng = lng\n",
    "        self.l = len(lng)\n",
    "        self.name()\n",
    "        self.stat()\n",
    "\n",
    "    def name(self):\n",
    "        lng_s = []\n",
    "        for l in self.lng:\n",
    "            lng_s.append( str(l.a) + str(l.b) + str(l.p) )\n",
    "        lng_s.sort()\n",
    "        self.n = ','.join(lng_s)\n",
    "        \n",
    "    def stat(self):\n",
    "        self.num = {'a': 0, 'b': 0}\n",
    "        self.index = {'a':[-1,-1],'b':[-1,-1]}\n",
    "        ai, bi = 0, 0\n",
    "        for i, l in enumerate(self.lng):\n",
    "            if l.a == 1:\n",
    "                self.num['a'] += 1\n",
    "                self.index['a'][ai] = i\n",
    "                ai += 1\n",
    "            if l.b == 1:\n",
    "                self.num['b'] += 1\n",
    "                self.index['b'][bi] = i\n",
    "                bi += 1\n",
    "                \n",
    "    def __str__(self):\n",
    "        prstr = self.n + \": \" + \"num_a = \" + str(self.num['a']) + \", \" + \"num_b = \" + str(self.num['b']) + \"\\n    \" + \"index_a = \" + str(self.index['a'][0:self.num['a']]) + \"\\n    \" + \"index_b = \" + str(self.index['b'][0:self.num['b']])\n",
    "        return(prstr)\n",
    "\n",
    "numStates =[\n",
    "#    [ [1,1,0] ],\n",
    "#    [ [1,1,1] ],\n",
    "\n",
    "    [ [1,1,0],[1,1,0] ],\n",
    "    [ [1,1,0],[1,1,1] ],\n",
    "    [ [1,1,1],[1,1,1] ],\n",
    "\n",
    "    [ [1,0,0],[1,1,0] ],\n",
    "    [ [1,0,0],[1,1,1] ],\n",
    "    [ [1,0,1],[1,1,0] ],\n",
    "    [ [1,0,1],[1,1,1] ],\n",
    "\n",
    "    [ [0,1,0],[1,1,0] ],\n",
    "    [ [0,1,0],[1,1,1] ],\n",
    "    [ [0,1,1],[1,1,0] ],\n",
    "    [ [0,1,1],[1,1,1] ],\n",
    "\n",
    "    [ [0,1,0],[1,0,0] ],\n",
    "    [ [0,1,0],[1,0,1] ],\n",
    "    [ [0,1,1],[1,0,0] ],\n",
    "    [ [0,1,1],[1,0,1] ],\n",
    "\n",
    "    [ [1,0,0],[0,1,0],[1,1,0] ],\n",
    "    [ [1,0,0],[0,1,0],[1,1,1] ],\n",
    "    [ [1,0,0],[0,1,1],[1,1,0] ],\n",
    "    [ [1,0,0],[0,1,1],[1,1,1] ],\n",
    "    [ [1,0,1],[0,1,0],[1,1,0] ],\n",
    "    [ [1,0,1],[0,1,0],[1,1,1] ],\n",
    "    [ [1,0,1],[0,1,1],[1,1,0] ],\n",
    "    [ [1,0,1],[0,1,1],[1,1,1] ],\n",
    "\n",
    "    [ [1,0,0],[0,1,0],[0,1,0] ],\n",
    "    [ [1,0,0],[0,1,0],[0,1,1] ],\n",
    "    [ [1,0,0],[0,1,1],[0,1,1] ],\n",
    "    [ [1,0,1],[0,1,0],[0,1,0] ],\n",
    "    [ [1,0,1],[0,1,0],[0,1,1] ],\n",
    "    [ [1,0,1],[0,1,1],[0,1,1] ],\n",
    "\n",
    "    [ [1,0,0],[1,0,0],[0,1,0] ],\n",
    "    [ [1,0,0],[1,0,0],[0,1,1] ],\n",
    "    [ [1,0,0],[1,0,1],[0,1,0] ],\n",
    "    [ [1,0,0],[1,0,1],[0,1,1] ],\n",
    "    [ [1,0,1],[1,0,1],[0,1,0] ],\n",
    "    [ [1,0,1],[1,0,1],[0,1,1] ],\n",
    "\n",
    "    [ [1,0,0],[1,0,0],[0,1,0],[0,1,0] ],\n",
    "    [ [1,0,0],[1,0,0],[0,1,0],[0,1,1] ],\n",
    "    [ [1,0,0],[1,0,0],[0,1,1],[0,1,1] ],\n",
    "    [ [1,0,0],[1,0,1],[0,1,0],[0,1,0] ],\n",
    "    [ [1,0,0],[1,0,1],[0,1,0],[0,1,1] ],\n",
    "    [ [1,0,0],[1,0,1],[0,1,1],[0,1,1] ],\n",
    "    [ [1,0,1],[1,0,1],[0,1,0],[0,1,0] ],\n",
    "    [ [1,0,1],[1,0,1],[0,1,0],[0,1,1] ],\n",
    "    [ [1,0,1],[1,0,1],[0,1,1],[0,1,1] ]\n",
    "]\n",
    "\n",
    "Mdim = len(numStates)\n",
    "\n",
    "states = []\n",
    "stateToNum = {}\n",
    "i = 0\n",
    "for st in numStates:\n",
    "    lng = []\n",
    "    for l in st:\n",
    "        lng.append( lineage(l[0], l[1], l[2]) )\n",
    "    states.append( state(lng) )\n",
    "    stateToNum[states[-1].n] = i\n",
    "    i += 1\n",
    "\n",
    "def Eq(P, t):\n",
    "    return dot(dot(M,params(t)),P)\n",
    "\n",
    "def Coal(st, i, k):\n",
    "    if i > st.l or k > st.l:\n",
    "        print(\"Wrong lineage index.\")\n",
    "    if st.lng[i].p != st.lng[k].p:\n",
    "        print(\"Coalescence is impossible.\")\n",
    "    newState = [st.lng[j] for j in range(st.l) if i != j and k != j]\n",
    "    newState.append(lineage(st.lng[i].a | st.lng[k].a, st.lng[i].b | st.lng[k].b, st.lng[i].p))\n",
    "    newState = state(newState)\n",
    "    if newState.l > 1:\n",
    "        return stateToNum[newState.n]\n",
    "    else:\n",
    "        return -1\n",
    "\n",
    "#Matrix entry [rho, l1, l2, m1, m2]\n",
    "\n",
    "def Matrix():\n",
    "    trRate = np.zeros( (Mdim, Mdim, 5), int )\n",
    "    for s in range(Mdim):\n",
    "        st = states[s]\n",
    "        for i in range(st.l):\n",
    "            #recombination\n",
    "            if st.lng[i].a & st.lng[i].b:\n",
    "                newState = [st.lng[j] for j in range(st.l) if i != j]\n",
    "                newState.append(lineage(1,0,st.lng[i].p))\n",
    "                newState.append(lineage(0,1,st.lng[i].p))\n",
    "                newState = state(newState)\n",
    "                trRate[s,stateToNum[newState.n],0] += 1\n",
    "                trRate[s,s,0] -= 1\n",
    "            #coalescence\n",
    "            for k in range(i+1,st.l):\n",
    "                if st.lng[i].p == st.lng[k].p:\n",
    "                    newState_id = Coal(st, i, k)\n",
    "                    if newState_id != -1:\n",
    "                        trRate[s, newState_id, st.lng[i].p+1 ] += 1\n",
    "                    trRate[s, s, st.lng[i].p+1 ] -= 1\n",
    "            #migration\n",
    "            newState = [st.lng[j] for j in range(st.l) if i != j]\n",
    "            newState.append( lineage(st.lng[i].a,st.lng[i].b,(st.lng[i].p+1)%2) )\n",
    "            newState = state(newState)\n",
    "            trRate[s, stateToNum[newState.n], st.lng[i].p+3 ] += 1\n",
    "            trRate[s, s, st.lng[i].p+3 ] -= 1\n",
    "    return( np.transpose(trRate, (1,0,2)) )\n",
    "\n",
    "def FirstCoal(locus, t, popID = -1):\n",
    "    matr = np.zeros( (Mdim, Mdim) )\n",
    "    for s, st in enumerate(states):\n",
    "        if not (st.num['a'] == 2 and st.num['b'] == 2 and st.l > 2):\n",
    "            continue\n",
    "        lng_i0, lng_i1 = st.index[locus][0], st.index[locus][1]\n",
    "        if not (popID == -1 and st.lng[lng_i0].p == st.lng[lng_i1].p) and not (popID != -1 and st.lng[lng_i0].p == popID and st.lng[lng_i1].p == popID):\n",
    "            continue\n",
    "        newState_id = Coal(st, lng_i0, lng_i1)\n",
    "        matr[ newState_id, s ] += params(t)[ st.lng[lng_i0].p + 1 ]\n",
    "    return matr\n",
    "\n",
    "def SecondCoal(locus, t, popID = -1):\n",
    "    matr = np.zeros( (Mdim, Mdim) )\n",
    "    \n",
    "    locus2 = 'b'\n",
    "    if locus == 'b':\n",
    "        locus2 = 'a'\n",
    "        \n",
    "    for s, st in enumerate(states):\n",
    "        if not (st.num[locus] == 2 and st.num[locus2] == 1):\n",
    "            continue\n",
    "        lng_i0, lng_i1 = st.index[locus][0], st.index[locus][1]\n",
    "        if not (popID == -1 and st.lng[lng_i0].p == st.lng[lng_i1].p) and not (popID != -1 and st.lng[lng_i0].p == popID and st.lng[lng_i1].p == popID):\n",
    "            continue\n",
    "        newState_id = Coal(st, lng_i0, lng_i1)\n",
    "        #print(st.n, states[newState_id].n)\n",
    "        matr[ newState_id, s ] += params(t)[ st.lng[lng_i0].p + 1 ]\n",
    "    return matr\n",
    "\n",
    "def DoubleCoal(t, popID = -1):\n",
    "    matr = np.zeros( (Mdim, Mdim) )\n",
    "    for s, st in enumerate(states):\n",
    "        if not (st.num['a'] == 2 and st.num['b'] == 2 and st.l == 2):\n",
    "            continue\n",
    "        lng_i0, lng_i1 = st.index['a'][0], st.index['a'][1]\n",
    "        if not (popID == -1 and st.lng[lng_i0].p == st.lng[lng_i1].p) and not (popID != -1 and st.lng[lng_i0].p == popID and st.lng[lng_i1].p == popID):\n",
    "            continue\n",
    "        newState_id = Coal(st, lng_i0, lng_i1)\n",
    "        #print(st.n, states[newState_id].n)\n",
    "        matr[ newState_id, s ] += params(t)[ st.lng[lng_i0].p + 1 ]\n",
    "    return matr\n",
    "\n",
    "def params(t):\n",
    "    return np.array([0.0001, 1.0, 2.0, 0.1, 0.1])\n",
    "\n",
    "M = Matrix()\n",
    "\n",
    "Pinit = np.zeros(Mdim)\n",
    "Pinit[0] = 1.0\n",
    "\n",
    "T = 1.\n",
    "S = 2.\n",
    "\n",
    "def densityTaTb(Ta, Tb, pop_a = -1, pop_b = -1):\n",
    "    if Ta < Tb:\n",
    "        Mexp = linalg.expm( dot(M, params(0))*Ta )\n",
    "        P = dot(Mexp, Pinit)\n",
    "        #print(P)\n",
    "        P = dot(FirstCoal('a', Ta, pop_a), P)\n",
    "        #print(P)\n",
    "        Mexp = linalg.expm( dot(M, params(0))*(Tb-Ta) )\n",
    "        P = dot(Mexp, P)\n",
    "        #print(P)\n",
    "        P = dot(SecondCoal('b', Tb, pop_b), P)\n",
    "        #print(P)\n",
    "    elif Ta > Tb:\n",
    "        Mexp = linalg.expm( dot(M, params(0))*Tb )\n",
    "        P = dot(Mexp, Pinit)\n",
    "        P = dot(FirstCoal('b', Tb, pop_b), P)\n",
    "        Mexp = linalg.expm( dot(M, params(0))*(Ta-Tb) )\n",
    "        P = dot(Mexp, P)\n",
    "        P = dot(SecondCoal('a', Ta, pop_a), P)\n",
    "    else:\n",
    "        Mexp = linalg.expm( dot(M, params(0))*Ta )\n",
    "        P = dot(Mexp, Pinit)\n",
    "        P = dot(DoubleCoal(Ta, pop_a), P)\n",
    "    return( sum(P) )"
   ]
  },
  {
   "cell_type": "code",
   "execution_count": 177,
   "id": "c47e2512",
   "metadata": {},
   "outputs": [],
   "source": [
    "dim = 80\n",
    "dt = 20"
   ]
  },
  {
   "cell_type": "code",
   "execution_count": 178,
   "id": "2247f72c",
   "metadata": {},
   "outputs": [],
   "source": [
    "def params(t):\n",
    "    return np.array([0.001, 1.0, 1.0, 0.1, 0.1])\n",
    "\n",
    "data_dx = [[densityTaTb(i/dt, j/dt)/dt if i != j else densityTaTb(i/dt, j/dt) for j in range(dim)] for i in range(dim) ]\n",
    "data_dx = np.array(data_dx)\n",
    "row_sums = data_dx.sum(axis=1)\n",
    "trans_matrix_smc = data_dx / row_sums[:, np.newaxis]\n",
    "\n",
    "#margdist = md.CalcDist(dim, 1.0/dt, init_cond)\n",
    "marg_diagonal = np.zeros( (dim, dim) )\n",
    "for i in range(dim):\n",
    "    marg_diagonal[i,i] = row_sums[i]# margdist[i]\n",
    "    \n",
    "#sum(trans_matrix_smc[0,:])"
   ]
  },
  {
   "cell_type": "code",
   "execution_count": 179,
   "id": "c6a969eb",
   "metadata": {},
   "outputs": [
    {
     "data": {
      "text/plain": [
       "<AxesSubplot:>"
      ]
     },
     "execution_count": 179,
     "metadata": {},
     "output_type": "execute_result"
    },
    {
     "data": {
      "image/png": "[encoded data removed]",
      "text/plain": [
       "<Figure size 432x288 with 2 Axes>"
      ]
     },
     "metadata": {
      "needs_background": "light"
     },
     "output_type": "display_data"
    }
   ],
   "source": [
    "joint_smc = np_linalg.matrix_power(trans_matrix_smc, 1000)\n",
    "joint_smc = np.matmul(marg_diagonal, joint_smc)\n",
    "\n",
    "sns.heatmap(joint_smc, cmap=\"YlGnBu\", vmax=0.01)"
   ]
  },
  {
   "cell_type": "code",
   "execution_count": 180,
   "id": "e832c054",
   "metadata": {},
   "outputs": [],
   "source": [
    "def params(t):\n",
    "    return np.array([1.0, 1.0, 1.0, 0.1, 0.1])\n",
    "\n",
    "data = [[densityTaTb(i/dt, j/dt)/dt if i != j else densityTaTb(i/dt, j/dt) for j in range(dim)] for i in range(dim) ]\n",
    "data = np.array(data)"
   ]
  },
  {
   "cell_type": "code",
   "execution_count": 181,
   "id": "bd92210c",
   "metadata": {},
   "outputs": [
    {
     "data": {
      "text/plain": [
       "<AxesSubplot:>"
      ]
     },
     "execution_count": 181,
     "metadata": {},
     "output_type": "execute_result"
    },
    {
     "data": {
      "image/png": "[encoded data removed]",
      "text/plain": [
       "<Figure size 432x288 with 2 Axes>"
      ]
     },
     "metadata": {
      "needs_background": "light"
     },
     "output_type": "display_data"
    }
   ],
   "source": [
    "sns.heatmap(data, cmap=\"YlGnBu\",vmax=0.01)"
   ]
  },
  {
   "cell_type": "code",
   "execution_count": 182,
   "id": "524825bb",
   "metadata": {},
   "outputs": [
    {
     "data": {
      "text/plain": [
       "<AxesSubplot:>"
      ]
     },
     "execution_count": 182,
     "metadata": {},
     "output_type": "execute_result"
    },
    {
     "data": {
      "image/png": "[encoded data removed]",
      "text/plain": [
       "<Figure size 432x288 with 2 Axes>"
      ]
     },
     "metadata": {
      "needs_background": "light"
     },
     "output_type": "display_data"
    }
   ],
   "source": [
    "sns.heatmap(joint_smc-data, cmap=\"YlGnBu\", vmax=0.00000005)"
   ]
  },
  {
   "cell_type": "code",
   "execution_count": 183,
   "id": "cf5a1852",
   "metadata": {},
   "outputs": [
    {
     "data": {
      "text/plain": [
       "0.03948928654871754"
      ]
     },
     "execution_count": 183,
     "metadata": {},
     "output_type": "execute_result"
    }
   ],
   "source": [
    "dif=joint_smc-data\n",
    "np.sum(abs(dif))/dt/2\n",
    "#0.054269666412373976"
   ]
  },
  {
   "cell_type": "code",
   "execution_count": 131,
   "id": "9fbee96a",
   "metadata": {},
   "outputs": [],
   "source": [
    "import msprime\n",
    "import math\n",
    "demography = msprime.Demography()\n",
    "demography.add_population(name=\"A\", initial_size=1)\n",
    "#demography.add_population(name=\"B\", initial_size=2)\n",
    "#demography.\n",
    "\n",
    "counter = 0\n",
    "emp_dist = np.zeros( (dim,dim) )\n",
    "for _ in range(200000):\n",
    "    ts = msprime.sim_ancestry(samples={\"A\": 2}, ploidy=1, demography=demography, recombination_rate=0.01, sequence_length=100)\n",
    "    tree = ts.first()\n",
    "    T = tree.time( tree.root )\n",
    "    tree = ts.last()\n",
    "    S = tree.time( tree.root )\n",
    "    \n",
    "    i = math.floor(T * dt)\n",
    "    j = math.floor(S * dt)\n",
    "    if i < dim and j < dim:\n",
    "        emp_dist[i,j] += 1\n",
    "emp_dist /= np.sum(emp_dist)"
   ]
  },
  {
   "cell_type": "code",
   "execution_count": 137,
   "id": "54f672d3",
   "metadata": {},
   "outputs": [
    {
     "data": {
      "text/plain": [
       "<AxesSubplot:>"
      ]
     },
     "execution_count": 137,
     "metadata": {},
     "output_type": "execute_result"
    },
    {
     "data": {
      "image/png": "[encoded data removed]",
      "text/plain": [
       "<Figure size 432x288 with 2 Axes>"
      ]
     },
     "metadata": {
      "needs_background": "light"
     },
     "output_type": "display_data"
    }
   ],
   "source": [
    "emp_dist_dt = emp_dist*dt\n",
    "\n",
    "#for i in range(dim):\n",
    "#    emp_dist[i,i] /= dt\n",
    "\n",
    "sns.heatmap(emp_dist_dt, cmap=\"YlGnBu\")"
   ]
  },
  {
   "cell_type": "code",
   "execution_count": 138,
   "id": "c373a535",
   "metadata": {},
   "outputs": [
    {
     "data": {
      "text/plain": [
       "<AxesSubplot:>"
      ]
     },
     "execution_count": 138,
     "metadata": {},
     "output_type": "execute_result"
    },
    {
     "data": {
      "image/png": "[encoded data removed]",
      "text/plain": [
       "<Figure size 432x288 with 2 Axes>"
      ]
     },
     "metadata": {
      "needs_background": "light"
     },
     "output_type": "display_data"
    }
   ],
   "source": [
    "sns.heatmap(data, cmap=\"YlGnBu\")"
   ]
  },
  {
   "cell_type": "code",
   "execution_count": 135,
   "id": "c17ae431",
   "metadata": {},
   "outputs": [
    {
     "name": "stdout",
     "output_type": "stream",
     "text": [
      "0.9697691641943803\n",
      "3.31036586013115\n",
      "0.10700337560813825\n"
     ]
    },
    {
     "data": {
      "image/png": "[encoded data removed]",
      "text/plain": [
       "<Figure size 432x288 with 2 Axes>"
      ]
     },
     "metadata": {
      "needs_background": "light"
     },
     "output_type": "display_data"
    }
   ],
   "source": [
    "sns.heatmap(emp_dist_dt-data, cmap=\"YlGnBu\")\n",
    "dif=emp_dist_dt-data\n",
    "TV_diag = 0.\n",
    "for i in range(dim):\n",
    "    TV_diag += abs(dif[i,i])\n",
    "print(TV_diag)\n",
    "TV = 0.\n",
    "for i in range(dim):\n",
    "    for j in range(dim):\n",
    "        if i != j:\n",
    "            TV += abs(dif[i,j])\n",
    "print(TV)\n",
    "TV = (TV_diag/dt + TV/dt)*0.5\n",
    "print(TV)\n",
    "\n",
    "#repl=100000\n",
    "#9.424612746924156\n",
    "#16.715550111722997\n",
    "#0.09758923749158616"
   ]
  },
  {
   "cell_type": "code",
   "execution_count": 61,
   "id": "588e1856",
   "metadata": {},
   "outputs": [
    {
     "data": {
      "text/plain": [
       "[<matplotlib.lines.Line2D at 0x7fa661aead60>]"
      ]
     },
     "execution_count": 61,
     "metadata": {},
     "output_type": "execute_result"
    },
    {
     "data": {
      "image/png": "[encoded data removed]",
      "text/plain": [
       "<Figure size 432x288 with 1 Axes>"
      ]
     },
     "metadata": {
      "needs_background": "light"
     },
     "output_type": "display_data"
    }
   ],
   "source": [
    "tau = 1.0/dt\n",
    "\n",
    "Pinit = np.zeros(Mdim)\n",
    "Pinit[0] = 1.0\n",
    "\n",
    "Mexp = linalg.expm( dot(M, params(0))*tau )\n",
    "margdist1 = []\n",
    "\n",
    "#coal_vec = np.zeros(len(states))\n",
    "coal_vec = []\n",
    "for st in states:\n",
    "    if st.num['a'] == 2:\n",
    "        lng_i0, lng_i1 = st.index['a'][0], st.index['a'][1]\n",
    "        if st.lng[lng_i0].p == st.lng[lng_i1].p:\n",
    "            coal_vec.append( params(0)[st.lng[lng_i0].p + 1] )\n",
    "        else:\n",
    "            coal_vec.append( 0.0 )\n",
    "    else:\n",
    "        coal_vec.append( 0.0 )\n",
    "coal_vec = np.array(coal_vec)\n",
    "\n",
    "for i in range(dim+1):\n",
    "    margdist1.append( dot(Pinit, coal_vec) )\n",
    "    Pinit = dot(Mexp, Pinit)\n",
    "    \n",
    "plt.plot(margdist1)\n",
    "plt.plot(margdist)"
   ]
  },
  {
   "cell_type": "code",
   "execution_count": 88,
   "id": "2e084584",
   "metadata": {},
   "outputs": [
    {
     "name": "stdout",
     "output_type": "stream",
     "text": [
      "0.3120980077710087\n",
      "[0.31562153 0.31210164 0.30862432]\n"
     ]
    },
    {
     "data": {
      "image/png": "[encoded data removed]",
      "text/plain": [
       "<Figure size 432x288 with 1 Axes>"
      ]
     },
     "metadata": {
      "needs_background": "light"
     },
     "output_type": "display_data"
    }
   ],
   "source": [
    "dens = [densityTaTb(1., j/500) for j in range(10000)]\n",
    "print( dens[500]+sum(dens[:500])/500+sum(dens[501:])/500 )\n",
    "print(margdist[99:102])\n",
    "plt.plot(dens)\n",
    "\n",
    "if False:\n",
    "    Mfc = FirstCoal('a',1)\n",
    "    for i in range(len(states)):\n",
    "        for j in range(len(states)):\n",
    "            if Mfc[i,j] != 0:\n",
    "                print(states[i].n + ' ' + states[j].n + ' ' + str(Mfc[i,j]) )\n",
    "\n",
    "    print(\"---------\")\n",
    "\n",
    "    Msc = SecondCoal('b',1)\n",
    "    for i in range(len(states)):\n",
    "        for j in range(len(states)):\n",
    "            if Msc[i,j] != 0:\n",
    "                print(states[i].n + ' ' + states[j].n + ' ' + str(Msc[i,j]) )"
   ]
  },
  {
   "cell_type": "code",
   "execution_count": 39,
   "id": "3485d33c",
   "metadata": {},
   "outputs": [
    {
     "name": "stdout",
     "output_type": "stream",
     "text": [
      "1:  hi\n",
      "2:  hi\n"
     ]
    }
   ],
   "source": [
    "class test_c:\n",
    "    def __init__(self, method):\n",
    "        self.method = method\n",
    "        \n",
    "    def call(self, t):\n",
    "        self.method(t)\n",
    "        \n",
    "def test_f1(t):\n",
    "    print(\"1: \", t)\n",
    "    \n",
    "def test_f2(t):\n",
    "    print(\"2: \", t)\n",
    "    \n",
    "tc1 = test_c(test_f1)\n",
    "tc1.call(\"hi\")\n",
    "\n",
    "tc2 = test_c(test_f2)\n",
    "tc2.call(\"hi\")"
   ]
  },
  {
   "cell_type": "code",
   "execution_count": null,
   "id": "cd92df0e",
   "metadata": {},
   "outputs": [],
   "source": []
  }
 ],
 "metadata": {
  "kernelspec": {
   "display_name": "Python 3 (ipykernel)",
   "language": "python",
   "name": "python3"
  },
  "language_info": {
   "codemirror_mode": {
    "name": "ipython",
    "version": 3
   },
   "file_extension": ".py",
   "mimetype": "text/x-python",
   "name": "python",
   "nbconvert_exporter": "python",
   "pygments_lexer": "ipython3",
   "version": "3.9.5"
  }
 },
 "nbformat": 4,
 "nbformat_minor": 5
}
