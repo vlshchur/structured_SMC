{
 "cells": [
  {
   "cell_type": "code",
   "execution_count": 9,
   "id": "cf48aa69",
   "metadata": {},
   "outputs": [],
   "source": [
    "#from sSMC import MarginalDistr\n",
    "import numpy as np\n",
    "import matplotlib.pyplot as plt\n",
    "import seaborn as sns\n",
    "\n",
    "class MarginalDistr:\n",
    "\n",
    "    def __init__(self, la1, la2, mu1, mu2):\n",
    "        #mu1, mu2 - migration  rates\n",
    "        #la1, la2 - coalescent rates\n",
    "        #init_cond - vector of length 3\n",
    "        self.la1 = la1\n",
    "        self.la2 = la2\n",
    "        \n",
    "        self.mu1 = mu1\n",
    "        self.mu2 = mu2\n",
    "\n",
    "        #self.init_cond = np.array(init_cond)/sum(init_cond)\n",
    "\n",
    "        self.SetMatrix(0.0)\n",
    "\n",
    "    def m1(self, t):\n",
    "        return self.mu1\n",
    "\n",
    "    def m2(self, t):\n",
    "        return self.mu2\n",
    "\n",
    "    def l1(self, t):\n",
    "        return self.la1\n",
    "\n",
    "    def l2(self, t):\n",
    "        return self.la2\n",
    "\n",
    "    def SetMatrix(self, t):\n",
    "        self.A = np.matrix( [[-2*self.m1(t)-self.l1(t), 0, self.m2(t)],\n",
    "                             [0, -2*self.m2(t)-self.l2(t), self.m1(t)],\n",
    "                             [2*self.m1(t), 2*self.m2(t), -self.m1(t) - self.m2(t)]] )\n",
    "\n",
    "    def CalcProb(self, t, init_cond):\n",
    "        MET = linalg.expm( dot(self.A, t) )\n",
    "        return dot(MET, init_cond)\n",
    "\n",
    "    def CalcDist(self, num_steps, step, init_cond):\n",
    "        pr_dist = np.zeros(num_steps+1)\n",
    "        MET = linalg.expm( dot(self.A, step) )\n",
    "        for i in range(num_steps):\n",
    "            pr_dist[i] = self.la1*init_cond[0]+self.la2*init_cond[1]\n",
    "            init_cond = dot(MET, init_cond)\n",
    "        pr_dist[num_steps] = self.la1*init_cond[0]+self.la2*init_cond[1]\n",
    "        return pr_dist"
   ]
  },
  {
   "cell_type": "code",
   "execution_count": 40,
   "id": "1d233537",
   "metadata": {},
   "outputs": [
    {
     "name": "stdout",
     "output_type": "stream",
     "text": [
      "[0.30553514 0.00328325 0.10412313]\n",
      "0.5870584828723702\n"
     ]
    }
   ],
   "source": [
    "#md = MarginalDistr(0.1, 0.1, 1.0, 2.0)\n",
    "#init_cond = np.array([1.0, 0.0, 0.0])\n",
    "#p = md.CalcProb(1.0, init_cond)\n",
    "\n",
    "\n",
    "\n",
    "#print(p)\n",
    "#print(1-sum(p))"
   ]
  },
  {
   "cell_type": "code",
   "execution_count": 54,
   "id": "6305e533",
   "metadata": {},
   "outputs": [
    {
     "name": "stdout",
     "output_type": "stream",
     "text": [
      "100,110: num_a = 2, num_b = 1\n",
      "    index_a = [0, 1]\n",
      "    index_b = [1]\n",
      "8.289773026992301e-05\n",
      "8.289773026992303e-05\n"
     ]
    },
    {
     "data": {
      "image/png": "[encoded data removed]",
      "text/plain": [
       "<Figure size 432x288 with 2 Axes>"
      ]
     },
     "metadata": {
      "needs_background": "light"
     },
     "output_type": "display_data"
    }
   ],
   "source": [
    "import numpy as np\n",
    "from scipy import linalg\n",
    "from scipy.integrate import odeint\n",
    "from numpy import dot\n",
    "import matplotlib.pyplot as plt\n",
    "\n",
    "class lineage:\n",
    "    def __init__(self, a, b, p):\n",
    "        #a and b indicates ancestral material (1) or non-ancestral (0)\n",
    "        self.a = a\n",
    "        self.b = b\n",
    "        self.p = p#0 or 1 population\n",
    "\n",
    "    def __str__(self):\n",
    "        return str(self.a)+str(self.b)+str(self.p)\n",
    "\n",
    "class state:\n",
    "    def __init__(self, lng):\n",
    "        self.lng = lng\n",
    "        self.l = len(lng)\n",
    "        self.name()\n",
    "        self.stat()\n",
    "\n",
    "    def name(self):\n",
    "        lng_s = []\n",
    "        for l in self.lng:\n",
    "            lng_s.append( str(l.a) + str(l.b) + str(l.p) )\n",
    "        lng_s.sort()\n",
    "        self.n = ','.join(lng_s)\n",
    "        \n",
    "    def stat(self):\n",
    "        self.num = {'a': 0, 'b': 0}\n",
    "        self.index = {'a':[-1,-1],'b':[-1,-1]}\n",
    "        ai, bi = 0, 0\n",
    "        for i, l in enumerate(self.lng):\n",
    "            if l.a == 1:\n",
    "                self.num['a'] += 1\n",
    "                self.index['a'][ai] = i\n",
    "                ai += 1\n",
    "            if l.b == 1:\n",
    "                self.num['b'] += 1\n",
    "                self.index['b'][bi] = i\n",
    "                bi += 1\n",
    "                \n",
    "    def __str__(self):\n",
    "        prstr = self.n + \": \" + \"num_a = \" + str(self.num['a']) + \", \" + \"num_b = \" + str(self.num['b']) + \"\\n    \" + \"index_a = \" + str(self.index['a'][0:self.num['a']]) + \"\\n    \" + \"index_b = \" + str(self.index['b'][0:self.num['b']])\n",
    "        return(prstr)\n",
    "\n",
    "numStates =[\n",
    "#    [ [1,1,0] ],\n",
    "#    [ [1,1,1] ],\n",
    "\n",
    "    [ [1,1,0],[1,1,0] ],\n",
    "    [ [1,1,0],[1,1,1] ],\n",
    "    [ [1,1,1],[1,1,1] ],\n",
    "\n",
    "    [ [1,0,0],[1,1,0] ],\n",
    "    [ [1,0,0],[1,1,1] ],\n",
    "    [ [1,0,1],[1,1,0] ],\n",
    "    [ [1,0,1],[1,1,1] ],\n",
    "\n",
    "    [ [0,1,0],[1,1,0] ],\n",
    "    [ [0,1,0],[1,1,1] ],\n",
    "    [ [0,1,1],[1,1,0] ],\n",
    "    [ [0,1,1],[1,1,1] ],\n",
    "\n",
    "    [ [0,1,0],[1,0,0] ],\n",
    "    [ [0,1,0],[1,0,1] ],\n",
    "    [ [0,1,1],[1,0,0] ],\n",
    "    [ [0,1,1],[1,0,1] ],\n",
    "\n",
    "    [ [1,0,0],[0,1,0],[1,1,0] ],\n",
    "    [ [1,0,0],[0,1,0],[1,1,1] ],\n",
    "    [ [1,0,0],[0,1,1],[1,1,0] ],\n",
    "    [ [1,0,0],[0,1,1],[1,1,1] ],\n",
    "    [ [1,0,1],[0,1,0],[1,1,0] ],\n",
    "    [ [1,0,1],[0,1,0],[1,1,1] ],\n",
    "    [ [1,0,1],[0,1,1],[1,1,0] ],\n",
    "    [ [1,0,1],[0,1,1],[1,1,1] ],\n",
    "\n",
    "    [ [1,0,0],[0,1,0],[0,1,0] ],\n",
    "    [ [1,0,0],[0,1,0],[0,1,1] ],\n",
    "    [ [1,0,0],[0,1,1],[0,1,1] ],\n",
    "    [ [1,0,1],[0,1,0],[0,1,0] ],\n",
    "    [ [1,0,1],[0,1,0],[0,1,1] ],\n",
    "    [ [1,0,1],[0,1,1],[0,1,1] ],\n",
    "\n",
    "    [ [1,0,0],[1,0,0],[0,1,0] ],\n",
    "    [ [1,0,0],[1,0,0],[0,1,1] ],\n",
    "    [ [1,0,0],[1,0,1],[0,1,0] ],\n",
    "    [ [1,0,0],[1,0,1],[0,1,1] ],\n",
    "    [ [1,0,1],[1,0,1],[0,1,0] ],\n",
    "    [ [1,0,1],[1,0,1],[0,1,1] ],\n",
    "\n",
    "    [ [1,0,0],[1,0,0],[0,1,0],[0,1,0] ],\n",
    "    [ [1,0,0],[1,0,0],[0,1,0],[0,1,1] ],\n",
    "    [ [1,0,0],[1,0,0],[0,1,1],[0,1,1] ],\n",
    "    [ [1,0,0],[1,0,1],[0,1,0],[0,1,0] ],\n",
    "    [ [1,0,0],[1,0,1],[0,1,0],[0,1,1] ],\n",
    "    [ [1,0,0],[1,0,1],[0,1,1],[0,1,1] ],\n",
    "    [ [1,0,1],[1,0,1],[0,1,0],[0,1,0] ],\n",
    "    [ [1,0,1],[1,0,1],[0,1,0],[0,1,1] ],\n",
    "    [ [1,0,1],[1,0,1],[0,1,1],[0,1,1] ]\n",
    "]\n",
    "\n",
    "Mdim = len(numStates)\n",
    "\n",
    "states = []\n",
    "stateToNum = {}\n",
    "i = 0\n",
    "for st in numStates:\n",
    "    lng = []\n",
    "    for l in st:\n",
    "        lng.append( lineage(l[0], l[1], l[2]) )\n",
    "    states.append( state(lng) )\n",
    "    stateToNum[states[-1].n] = i\n",
    "    i += 1\n",
    "\n",
    "def Eq(P, t):\n",
    "    return dot(dot(M,params(t)),P)\n",
    "\n",
    "def Coal(st, i, k):\n",
    "    if i > st.l or k > st.l:\n",
    "        print(\"Wrong lineage index.\")\n",
    "    if st.lng[i].p != st.lng[k].p:\n",
    "        print(\"Coalescence is impossible.\")\n",
    "    newState = [st.lng[j] for j in range(st.l) if i != j and k != j]\n",
    "    newState.append(lineage(st.lng[i].a | st.lng[k].a, st.lng[i].b | st.lng[k].b, st.lng[i].p))\n",
    "    newState = state(newState)\n",
    "    if newState.l > 1:\n",
    "        return stateToNum[newState.n]\n",
    "    else:\n",
    "        return -1\n",
    "\n",
    "#Matrix entry [rho, l1, l2, m1, m2]\n",
    "\n",
    "def Matrix():\n",
    "    trRate = np.zeros( (Mdim, Mdim, 5), int )\n",
    "    for s in range(Mdim):\n",
    "        st = states[s]\n",
    "        for i in range(st.l):\n",
    "            #recombination\n",
    "            if st.lng[i].a & st.lng[i].b:\n",
    "                newState = [st.lng[j] for j in range(st.l) if i != j]\n",
    "                newState.append(lineage(1,0,st.lng[i].p))\n",
    "                newState.append(lineage(0,1,st.lng[i].p))\n",
    "                newState = state(newState)\n",
    "                trRate[s,stateToNum[newState.n],0] += 1\n",
    "                trRate[s,s,0] -= 1\n",
    "            #coalescence\n",
    "            for k in range(i+1,st.l):\n",
    "                if st.lng[i].p == st.lng[k].p:\n",
    "                    newState_id = Coal(st, i, k)\n",
    "                    if newState_id != -1:\n",
    "                        trRate[s, newState_id, st.lng[i].p+1 ] += 1\n",
    "                    trRate[s, s, st.lng[i].p+1 ] -= 1\n",
    "            #migration\n",
    "            newState = [st.lng[j] for j in range(st.l) if i != j]\n",
    "            newState.append( lineage(st.lng[i].a,st.lng[i].b,(st.lng[i].p+1)%2) )\n",
    "            newState = state(newState)\n",
    "            trRate[s, stateToNum[newState.n], st.lng[i].p+3 ] += 1\n",
    "            trRate[s, s, st.lng[i].p+3 ] -= 1\n",
    "    return( np.transpose(trRate, (1,0,2)) )\n",
    "\n",
    "def FirstCoal(locus, t, popID = -1):\n",
    "    matr = np.zeros( (Mdim, Mdim) )\n",
    "    for s, st in enumerate(states):\n",
    "        if not (st.num['a'] == 2 and st.num['b'] == 2 and st.l > 2):\n",
    "            continue\n",
    "        lng_i0, lng_i1 = st.index[locus][0], st.index[locus][1]\n",
    "        if not (popID == -1 and st.lng[lng_i0].p == st.lng[lng_i1].p) and not (popID != -1 and st.lng[lng_i0].p == popID and st.lng[lng_i1].p == popID):\n",
    "            continue\n",
    "        newState_id = Coal(st, lng_i0, lng_i1)\n",
    "        matr[ newState_id, s ] += params(t)[ st.lng[lng_i0].p + 1 ]\n",
    "    return matr\n",
    "\n",
    "def SecondCoal(locus, t, popID = -1):\n",
    "    matr = np.zeros( (Mdim, Mdim) )\n",
    "    \n",
    "    locus2 = 'b'\n",
    "    if locus == 'b':\n",
    "        locus2 = 'a'\n",
    "        \n",
    "    for s, st in enumerate(states):\n",
    "        if not (st.num[locus] == 2 and st.num[locus2] == 1):\n",
    "            continue\n",
    "        lng_i0, lng_i1 = st.index[locus][0], st.index[locus][1]\n",
    "        if not (popID == -1 and st.lng[lng_i0].p == st.lng[lng_i1].p) and not (popID != -1 and st.lng[lng_i0].p == popID and st.lng[lng_i1].p == popID):\n",
    "            continue\n",
    "        newState_id = Coal(st, lng_i0, lng_i1)\n",
    "        #print(st.n, states[newState_id].n)\n",
    "        matr[ newState_id, s ] += params(t)[ st.lng[lng_i0].p + 1 ]\n",
    "    return matr\n",
    "\n",
    "def DoubleCoal(t, popID = -1):\n",
    "    matr = np.zeros( (Mdim, Mdim) )\n",
    "    for s, st in enumerate(states):\n",
    "        if not (st.num['a'] == 2 and st.num['b'] == 2 and st.l == 2):\n",
    "            continue\n",
    "        lng_i0, lng_i1 = st.index['a'][0], st.index['a'][1]\n",
    "        if not (popID == -1 and st.lng[lng_i0].p == st.lng[lng_i1].p) and not (popID != -1 and st.lng[lng_i0].p == popID and st.lng[lng_i1].p == popID):\n",
    "            continue\n",
    "        newState_id = Coal(st, lng_i0, lng_i1)\n",
    "        #print(st.n, states[newState_id].n)\n",
    "        matr[ newState_id, s ] += params(t)[ st.lng[lng_i0].p + 1 ]\n",
    "    return matr\n",
    "\n",
    "def params(t):\n",
    "    return np.array([0.001, 1.0, 2.0, 0.1, 0.1])\n",
    "\n",
    "print(states[3])\n",
    "\n",
    "M = Matrix()\n",
    "\n",
    "Pinit = np.zeros(Mdim)\n",
    "Pinit[0] = 1.0\n",
    "\n",
    "T = 1.\n",
    "S = 2.\n",
    "\n",
    "def densityTaTb(Ta, Tb, pop_a = -1, pop_b = -1):\n",
    "    if Ta < Tb:\n",
    "        Mexp = linalg.expm( dot(M, params(0))*Ta )\n",
    "        P = dot(Mexp, Pinit)\n",
    "        #print(P)\n",
    "        P = dot(FirstCoal('a', Ta, pop_a), P)\n",
    "        #print(P)\n",
    "        Mexp = linalg.expm( dot(M, params(0))*(Tb-Ta) )\n",
    "        P = dot(Mexp, P)\n",
    "        #print(P)\n",
    "        P = dot(SecondCoal('b', Tb, pop_b), P)\n",
    "        #print(P)\n",
    "    elif Ta > Tb:\n",
    "        Mexp = linalg.expm( dot(M, params(0))*Tb )\n",
    "        P = dot(Mexp, Pinit)\n",
    "        P = dot(FirstCoal('b', Tb, pop_b), P)\n",
    "        Mexp = linalg.expm( dot(M, params(0))*(Ta-Tb) )\n",
    "        P = dot(Mexp, P)\n",
    "        P = dot(SecondCoal('a', Ta, pop_a), P)\n",
    "    else:\n",
    "        Mexp = linalg.expm( dot(M, params(0))*Ta )\n",
    "        P = dot(Mexp, Pinit)\n",
    "        P = dot(DoubleCoal(Ta, pop_a), P)\n",
    "    return( sum(P) )\n",
    "        \n",
    "    \n",
    "    \n",
    "print(densityTaTb(T, S))\n",
    "\n",
    "print(densityTaTb(T, S, 0, 0) + densityTaTb(T, S, 1, 0) + densityTaTb(T, S, 0, 1) + densityTaTb(T, S, 1, 1))\n",
    "\n",
    "#plt.imshow(densityTaTb)\n",
    "\n",
    "\n",
    "dim = 400\n",
    "dt = 100\n",
    "if True:\n",
    "    data = [[densityTaTb(i/dt, j/dt) for i in range(dim)] for j in range(dim) ]\n",
    "    mask = [[False for i in range(dim)] for j in range(dim) ]\n",
    "    #for i in range(dim):\n",
    "    #    mask[i][i] = True\n",
    "    #    data[i][i] = data[dim-1][dim-2]\n",
    "    sns.heatmap(data, cmap=\"YlGnBu\")#, mask = mask)\n",
    "\n",
    "#times = [0.01*i for i in range(0,1001)]\n",
    "#sol = odeint(Eq, Pinit, [0., T])\n",
    "#print(sol[1])\n",
    "#Pinit = np.multiply(FirstCoal('a', 0), sol[1])\n",
    "#Pinit\n",
    "#sol\n",
    "\n",
    "#Mexp = linalg.expm( dot(M, params(0))*T )\n",
    "#P = dot(Mexp, Pinit)\n",
    "#print(P)\n",
    "\n",
    "#P = dot(FirstCoal('a', T, 0), P)\n",
    "\n",
    "#print(P)\n",
    "\n",
    "#Mexp = linalg.expm( dot(M, params(0))*(S-T) )\n",
    "#P = dot(Mexp, P)\n",
    "\n",
    "#P0 = dot(SecondCoal('b', S, 0), P)\n",
    "#P1 = dot(SecondCoal('b', S, 1), P)\n",
    "\n",
    "md = MarginalDistr( params(0)[1], params(0)[2], params(0)[3], params(0)[4] )\n",
    "init_cond = np.array([1.0, 0.0, 0.0])\n",
    "#p = md.CalcProb(1.0, init_cond)\n",
    "\n",
    "margdist = md.CalcDist(dim, 1/dt, init_cond)\n"
   ]
  },
  {
   "cell_type": "code",
   "execution_count": 29,
   "id": "b7b6eb8a",
   "metadata": {},
   "outputs": [
    {
     "data": {
      "text/plain": [
       "<AxesSubplot:>"
      ]
     },
     "execution_count": 29,
     "metadata": {},
     "output_type": "execute_result"
    },
    {
     "data": {
      "image/png": "[encoded data removed]",
      "text/plain": [
       "<Figure size 432x288 with 2 Axes>"
      ]
     },
     "metadata": {
      "needs_background": "light"
     },
     "output_type": "display_data"
    }
   ],
   "source": [
    "#sns.heatmap(data, cmap=\"YlGnBu\", vmax=0.0005)\n",
    "plt.plot(margdist)\n",
    "#plt.plot(margdist/sum(margdist)*dt)\n",
    "data = np.array(data)\n",
    "plt.plot(np.sum(data, 0))\n",
    "plt.xlim([0,int(2*dt)])\n",
    "plt.show()"
   ]
  },
  {
   "cell_type": "code",
   "execution_count": 55,
   "id": "9fbee96a",
   "metadata": {},
   "outputs": [
    {
     "data": {
      "image/png": "[encoded data removed]",
      "text/plain": [
       "<Figure size 432x288 with 1 Axes>"
      ]
     },
     "metadata": {
      "needs_background": "light"
     },
     "output_type": "display_data"
    }
   ],
   "source": [
    "plt.plot(margdist)\n",
    "#plt.plot(margdist/sum(margdist)*dt)\n",
    "data = np.array(data)\n",
    "plt.plot(np.sum(data, 0))\n",
    "plt.xlim([0,int(2*dt)])\n",
    "plt.show()\n",
    "\n",
    "#plt.plot(np.sum(data, 1)/np.sum(data)*dt)"
   ]
  },
  {
   "cell_type": "code",
   "execution_count": null,
   "id": "13ea12e6",
   "metadata": {},
   "outputs": [],
   "source": [
    "M_smc = "
   ]
  },
  {
   "cell_type": "code",
   "execution_count": 48,
   "id": "c373a535",
   "metadata": {},
   "outputs": [
    {
     "data": {
      "text/plain": [
       "[<matplotlib.lines.Line2D at 0x7fb5511bed60>]"
      ]
     },
     "execution_count": 48,
     "metadata": {},
     "output_type": "execute_result"
    },
    {
     "data": {
      "image/png": "[encoded data removed]",
      "text/plain": [
       "<Figure size 432x288 with 1 Axes>"
      ]
     },
     "metadata": {
      "needs_background": "light"
     },
     "output_type": "display_data"
    }
   ],
   "source": [
    "M = Matrix()\n",
    "rho = 1.0\n",
    "\n",
    "Pinit = np.zeros(Mdim)\n",
    "Pinit[0] = 1.0\n",
    "\n",
    "def params(t):\n",
    "    return np.array([0.0001, 1.0, 2.0, 1., 1.])\n",
    "\n",
    "def Eq(P, t):\n",
    "    return dot(dot(M,params(t)),P)\n",
    "\n",
    "times = [0.01*i for i in range(0,1001)]\n",
    "sol = odeint(Eq, Pinit, times)\n",
    "\n",
    "#print(M)\n",
    "#print(dot(M,params(0)))\n",
    "#print(sol)\n",
    "plt.plot(times, sol[:,0])\n",
    "plt.plot(times, sol[:,1])\n",
    "plt.plot(times, sol[:,2])"
   ]
  },
  {
   "cell_type": "code",
   "execution_count": 59,
   "id": "588e1856",
   "metadata": {},
   "outputs": [
    {
     "data": {
      "text/plain": [
       "[<matplotlib.lines.Line2D at 0x7fa67206ab50>]"
      ]
     },
     "execution_count": 59,
     "metadata": {},
     "output_type": "execute_result"
    },
    {
     "data": {
      "image/png": "[encoded data removed]",
      "text/plain": [
       "<Figure size 432x288 with 1 Axes>"
      ]
     },
     "metadata": {
      "needs_background": "light"
     },
     "output_type": "display_data"
    }
   ],
   "source": [
    "tau = dim/dt\n",
    "\n",
    "Pinit = np.zeros(Mdim)\n",
    "Pinit[0] = 1.0\n",
    "\n",
    "Mexp = linalg.expm( dot(M, params(0))*tau )\n",
    "margdist1 = []\n",
    "\n",
    "#coal_vec = np.zeros(len(states))\n",
    "coal_vec = []\n",
    "for st in states:\n",
    "    if st.num['a'] == 2:\n",
    "        lng_i0, lng_i1 = st.index['a'][0], st.index['a'][1]\n",
    "        if st.lng[lng_i0].p == st.lng[lng_i1].p:\n",
    "            coal_vec.append( params(0)[st.lng[lng_i0].p + 1] )\n",
    "        else:\n",
    "            coal_vec.append( 0.0 )\n",
    "    else:\n",
    "        coal_vec.append( 0.0 )\n",
    "coal_vec = np.array(coal_vec)\n",
    "\n",
    "for i in range(dim+1):\n",
    "    margdist1.append( dot(Pinit, coal_vec) )\n",
    "    Pinit = dot(Mexp, Pinit)\n",
    "    \n",
    "plt.plot(margdist1)\n"
   ]
  },
  {
   "cell_type": "code",
   "execution_count": 40,
   "id": "2e084584",
   "metadata": {},
   "outputs": [
    {
     "data": {
      "text/plain": [
       "array([0.00000000e+00, 0.00000000e+00, 0.00000000e+00, 0.00000000e+00,\n",
       "       0.00000000e+00, 0.00000000e+00, 0.00000000e+00, 0.00000000e+00,\n",
       "       0.00000000e+00, 0.00000000e+00, 0.00000000e+00, 0.00000000e+00,\n",
       "       0.00000000e+00, 0.00000000e+00, 0.00000000e+00, 0.00000000e+00,\n",
       "       0.00000000e+00, 0.00000000e+00, 0.00000000e+00, 0.00000000e+00,\n",
       "       0.00000000e+00, 0.00000000e+00, 0.00000000e+00, 0.00000000e+00,\n",
       "       0.00000000e+00, 0.00000000e+00, 0.00000000e+00, 0.00000000e+00,\n",
       "       0.00000000e+00, 0.00000000e+00, 0.00000000e+00, 0.00000000e+00,\n",
       "       0.00000000e+00, 0.00000000e+00, 0.00000000e+00, 0.00000000e+00,\n",
       "       0.00000000e+00, 0.00000000e+00, 0.00000000e+00, 0.00000000e+00,\n",
       "       0.00000000e+00, 0.00000000e+00, 0.00000000e+00, 1.30740284e-06])"
      ]
     },
     "execution_count": 40,
     "metadata": {},
     "output_type": "execute_result"
    }
   ],
   "source": [
    "#def params(t):\n",
    "#    return np.array([0.001, 1.0, 2.0, 1., 1.])\n",
    "\n",
    "M = Matrix()\n",
    "\n",
    "Pinit = np.zeros(Mdim)\n",
    "Pinit[0] = 1.0\n",
    "\n",
    "T = 0.1\n",
    "\n",
    "#times = [0.01*i for i in range(0,1001)]\n",
    "sol = odeint(Eq, Pinit, [0,T])\n",
    "\n",
    "Pinit = np.multiply(FirstCoal('a', 0), sol[1])\n",
    "Pinit"
   ]
  },
  {
   "cell_type": "code",
   "execution_count": 35,
   "id": "3485d33c",
   "metadata": {},
   "outputs": [
    {
     "data": {
      "text/plain": [
       "array([0., 0., 0., 0., 0., 0., 0., 1., 0., 1., 0., 0., 0., 0., 0., 0., 0.,\n",
       "       0., 0., 0., 0., 0., 0., 1., 1., 1., 0., 0., 0., 0., 0., 0., 0., 0.,\n",
       "       0., 0., 0., 0., 0., 0., 0., 0., 0., 1.])"
      ]
     },
     "execution_count": 35,
     "metadata": {},
     "output_type": "execute_result"
    }
   ],
   "source": [
    "FirstCoal('a', 0)"
   ]
  },
  {
   "cell_type": "code",
   "execution_count": 38,
   "id": "d9c11886",
   "metadata": {},
   "outputs": [
    {
     "data": {
      "text/plain": [
       "array([[1.00000000e+00, 0.00000000e+00, 0.00000000e+00, 0.00000000e+00,\n",
       "        0.00000000e+00, 0.00000000e+00, 0.00000000e+00, 0.00000000e+00,\n",
       "        0.00000000e+00, 0.00000000e+00, 0.00000000e+00, 0.00000000e+00,\n",
       "        0.00000000e+00, 0.00000000e+00, 0.00000000e+00, 0.00000000e+00,\n",
       "        0.00000000e+00, 0.00000000e+00, 0.00000000e+00, 0.00000000e+00,\n",
       "        0.00000000e+00, 0.00000000e+00, 0.00000000e+00, 0.00000000e+00,\n",
       "        0.00000000e+00, 0.00000000e+00, 0.00000000e+00, 0.00000000e+00,\n",
       "        0.00000000e+00, 0.00000000e+00, 0.00000000e+00, 0.00000000e+00,\n",
       "        0.00000000e+00, 0.00000000e+00, 0.00000000e+00, 0.00000000e+00,\n",
       "        0.00000000e+00, 0.00000000e+00, 0.00000000e+00, 0.00000000e+00,\n",
       "        0.00000000e+00, 0.00000000e+00, 0.00000000e+00, 0.00000000e+00],\n",
       "       [3.01156471e-01, 5.13746852e-02, 3.23792700e-03, 0.00000000e+00,\n",
       "        0.00000000e+00, 0.00000000e+00, 0.00000000e+00, 0.00000000e+00,\n",
       "        0.00000000e+00, 0.00000000e+00, 0.00000000e+00, 0.00000000e+00,\n",
       "        0.00000000e+00, 0.00000000e+00, 0.00000000e+00, 1.26299899e-01,\n",
       "        2.88866450e-02, 9.06098059e-03, 1.02176359e-03, 9.06098059e-03,\n",
       "        1.02176359e-03, 3.21694947e-02, 1.30223037e-03, 0.00000000e+00,\n",
       "        0.00000000e+00, 0.00000000e+00, 0.00000000e+00, 0.00000000e+00,\n",
       "        0.00000000e+00, 0.00000000e+00, 0.00000000e+00, 0.00000000e+00,\n",
       "        0.00000000e+00, 0.00000000e+00, 0.00000000e+00, 8.85077194e-02,\n",
       "        7.31573155e-03, 3.30034315e-04, 7.31573155e-03, 1.87628065e-02,\n",
       "        9.54199243e-04, 3.30034315e-04, 9.54199243e-04, 7.75219894e-04]])"
      ]
     },
     "execution_count": 38,
     "metadata": {},
     "output_type": "execute_result"
    }
   ],
   "source": [
    "sol"
   ]
  },
  {
   "cell_type": "code",
   "execution_count": 51,
   "id": "2fd8cc19",
   "metadata": {},
   "outputs": [
    {
     "name": "stdout",
     "output_type": "stream",
     "text": [
      "0: -1.202 0.2 0.0 0.0 0.0 0.0 0.0 0.0 0.0 0.0 0.0 0.0 0.0 0.0 0.0 0.002 0.0 0.0 0.0 0.0 0.0 0.0 0.0 0.0 0.0 0.0 0.0 0.0 0.0 0.0 0.0 0.0 0.0 0.0 0.0 0.0 0.0 0.0 0.0 0.0 0.0 0.0 0.0 0.0 \n",
      "\n",
      "1: 0.1 -0.202 0.1 0.0 0.0 0.0 0.0 0.0 0.0 0.0 0.0 0.0 0.0 0.0 0.0 0.0 0.001 0.0 0.0 0.0 0.0 0.001 0.0 0.0 0.0 0.0 0.0 0.0 0.0 0.0 0.0 0.0 0.0 0.0 0.0 0.0 0.0 0.0 0.0 0.0 0.0 0.0 0.0 0.0 \n",
      "\n",
      "2: 0.0 0.2 -2.202 0.0 0.0 0.0 0.0 0.0 0.0 0.0 0.0 0.0 0.0 0.0 0.0 0.0 0.0 0.0 0.0 0.0 0.0 0.0 0.002 0.0 0.0 0.0 0.0 0.0 0.0 0.0 0.0 0.0 0.0 0.0 0.0 0.0 0.0 0.0 0.0 0.0 0.0 0.0 0.0 0.0 \n",
      "\n",
      "3: 0.0 0.0 0.0 -1.2009999999999998 0.1 0.1 0.0 0.0 0.0 0.0 0.0 0.0 0.0 0.0 0.0 0.0 0.0 0.0 0.0 0.0 0.0 0.0 0.0 0.0 0.0 0.0 0.0 0.0 0.0 0.001 0.0 0.0 0.0 0.0 0.0 0.0 0.0 0.0 0.0 0.0 0.0 0.0 0.0 0.0 \n",
      "\n",
      "4: 0.0 0.0 0.0 0.1 -0.201 0.0 0.1 0.0 0.0 0.0 0.0 0.0 0.0 0.0 0.0 0.0 0.0 0.0 0.0 0.0 0.0 0.0 0.0 0.0 0.0 0.0 0.0 0.0 0.0 0.0 0.0 0.0 0.001 0.0 0.0 0.0 0.0 0.0 0.0 0.0 0.0 0.0 0.0 0.0 \n",
      "\n",
      "5: 0.0 0.0 0.0 0.1 0.0 -0.201 0.1 0.0 0.0 0.0 0.0 0.0 0.0 0.0 0.0 0.0 0.0 0.0 0.0 0.0 0.0 0.0 0.0 0.0 0.0 0.0 0.0 0.0 0.0 0.0 0.0 0.001 0.0 0.0 0.0 0.0 0.0 0.0 0.0 0.0 0.0 0.0 0.0 0.0 \n",
      "\n",
      "6: 0.0 0.0 0.0 0.0 0.1 0.1 -2.201 0.0 0.0 0.0 0.0 0.0 0.0 0.0 0.0 0.0 0.0 0.0 0.0 0.0 0.0 0.0 0.0 0.0 0.0 0.0 0.0 0.0 0.0 0.0 0.0 0.0 0.0 0.0 0.001 0.0 0.0 0.0 0.0 0.0 0.0 0.0 0.0 0.0 \n",
      "\n",
      "7: 0.0 0.0 0.0 0.0 0.0 0.0 0.0 -1.2009999999999998 0.1 0.1 0.0 0.0 0.0 0.0 0.0 0.0 0.0 0.0 0.0 0.0 0.0 0.0 0.0 0.001 0.0 0.0 0.0 0.0 0.0 0.0 0.0 0.0 0.0 0.0 0.0 0.0 0.0 0.0 0.0 0.0 0.0 0.0 0.0 0.0 \n",
      "\n",
      "8: 0.0 0.0 0.0 0.0 0.0 0.0 0.0 0.1 -0.201 0.0 0.1 0.0 0.0 0.0 0.0 0.0 0.0 0.0 0.0 0.0 0.0 0.0 0.0 0.0 0.0 0.0 0.0 0.001 0.0 0.0 0.0 0.0 0.0 0.0 0.0 0.0 0.0 0.0 0.0 0.0 0.0 0.0 0.0 0.0 \n",
      "\n",
      "9: 0.0 0.0 0.0 0.0 0.0 0.0 0.0 0.1 0.0 -0.201 0.1 0.0 0.0 0.0 0.0 0.0 0.0 0.0 0.0 0.0 0.0 0.0 0.0 0.0 0.001 0.0 0.0 0.0 0.0 0.0 0.0 0.0 0.0 0.0 0.0 0.0 0.0 0.0 0.0 0.0 0.0 0.0 0.0 0.0 \n",
      "\n",
      "10: 0.0 0.0 0.0 0.0 0.0 0.0 0.0 0.0 0.1 0.1 -2.201 0.0 0.0 0.0 0.0 0.0 0.0 0.0 0.0 0.0 0.0 0.0 0.0 0.0 0.0 0.0 0.0 0.0 0.001 0.0 0.0 0.0 0.0 0.0 0.0 0.0 0.0 0.0 0.0 0.0 0.0 0.0 0.0 0.0 \n",
      "\n",
      "11: 0.0 0.0 0.0 0.0 0.0 0.0 0.0 0.0 0.0 0.0 0.0 -1.2 0.1 0.1 0.0 0.0 0.0 0.0 0.0 0.0 0.0 0.0 0.0 0.0 0.0 0.0 0.0 0.0 0.0 0.0 0.0 0.0 0.0 0.0 0.0 0.0 0.0 0.0 0.0 0.0 0.0 0.0 0.0 0.0 \n",
      "\n",
      "12: 0.0 0.0 0.0 0.0 0.0 0.0 0.0 0.0 0.0 0.0 0.0 0.1 -0.2 0.0 0.1 0.0 0.0 0.0 0.0 0.0 0.0 0.0 0.0 0.0 0.0 0.0 0.0 0.0 0.0 0.0 0.0 0.0 0.0 0.0 0.0 0.0 0.0 0.0 0.0 0.0 0.0 0.0 0.0 0.0 \n",
      "\n",
      "13: 0.0 0.0 0.0 0.0 0.0 0.0 0.0 0.0 0.0 0.0 0.0 0.1 0.0 -0.2 0.1 0.0 0.0 0.0 0.0 0.0 0.0 0.0 0.0 0.0 0.0 0.0 0.0 0.0 0.0 0.0 0.0 0.0 0.0 0.0 0.0 0.0 0.0 0.0 0.0 0.0 0.0 0.0 0.0 0.0 \n",
      "\n",
      "14: 0.0 0.0 0.0 0.0 0.0 0.0 0.0 0.0 0.0 0.0 0.0 0.0 0.1 0.1 -2.2 0.0 0.0 0.0 0.0 0.0 0.0 0.0 0.0 0.0 0.0 0.0 0.0 0.0 0.0 0.0 0.0 0.0 0.0 0.0 0.0 0.0 0.0 0.0 0.0 0.0 0.0 0.0 0.0 0.0 \n",
      "\n",
      "15: 1.0 0.0 0.0 1.0 0.0 0.0 0.0 1.0 0.0 0.0 0.0 0.0 0.0 0.0 0.0 -3.3009999999999997 0.1 0.1 0.0 0.1 0.0 0.0 0.0 0.0 0.0 0.0 0.0 0.0 0.0 0.0 0.0 0.0 0.0 0.0 0.0 0.001 0.0 0.0 0.0 0.0 0.0 0.0 0.0 0.0 \n",
      "\n",
      "16: 0.0 1.0 0.0 0.0 0.0 0.0 0.0 0.0 0.0 0.0 0.0 0.0 0.0 0.0 0.0 0.1 -1.301 0.0 0.1 0.0 0.1 0.0 0.0 0.0 0.0 0.0 0.0 0.0 0.0 0.0 0.0 0.0 0.0 0.0 0.0 0.0 0.0 0.0 0.0 0.001 0.0 0.0 0.0 0.0 \n",
      "\n",
      "17: 0.0 0.0 0.0 0.0 0.0 0.0 0.0 0.0 0.0 1.0 0.0 0.0 0.0 0.0 0.0 0.1 0.0 -1.301 0.1 0.0 0.0 0.1 0.0 0.0 0.0 0.0 0.0 0.0 0.0 0.0 0.0 0.0 0.0 0.0 0.0 0.0 0.001 0.0 0.0 0.0 0.0 0.0 0.0 0.0 \n",
      "\n",
      "18: 0.0 0.0 0.0 0.0 2.0 0.0 0.0 0.0 0.0 0.0 0.0 0.0 0.0 0.0 0.0 0.0 0.1 0.1 -2.301 0.0 0.0 0.0 0.1 0.0 0.0 0.0 0.0 0.0 0.0 0.0 0.0 0.0 0.0 0.0 0.0 0.0 0.0 0.0 0.0 0.0 0.001 0.0 0.0 0.0 \n",
      "\n",
      "19: 0.0 0.0 0.0 0.0 0.0 1.0 0.0 0.0 0.0 0.0 0.0 0.0 0.0 0.0 0.0 0.1 0.0 0.0 0.0 -1.301 0.1 0.1 0.0 0.0 0.0 0.0 0.0 0.0 0.0 0.0 0.0 0.0 0.0 0.0 0.0 0.0 0.0 0.0 0.001 0.0 0.0 0.0 0.0 0.0 \n",
      "\n",
      "20: 0.0 0.0 0.0 0.0 0.0 0.0 0.0 0.0 2.0 0.0 0.0 0.0 0.0 0.0 0.0 0.0 0.1 0.0 0.0 0.1 -2.301 0.0 0.1 0.0 0.0 0.0 0.0 0.0 0.0 0.0 0.0 0.0 0.0 0.0 0.0 0.0 0.0 0.0 0.0 0.0 0.0 0.0 0.001 0.0 \n",
      "\n",
      "21: 0.0 2.0 0.0 0.0 0.0 0.0 0.0 0.0 0.0 0.0 0.0 0.0 0.0 0.0 0.0 0.0 0.0 0.1 0.0 0.1 0.0 -2.301 0.1 0.0 0.0 0.0 0.0 0.0 0.0 0.0 0.0 0.0 0.0 0.0 0.0 0.0 0.0 0.0 0.0 0.001 0.0 0.0 0.0 0.0 \n",
      "\n",
      "22: 0.0 0.0 2.0 0.0 0.0 0.0 2.0 0.0 0.0 0.0 2.0 0.0 0.0 0.0 0.0 0.0 0.0 0.0 0.1 0.0 0.1 0.1 -6.301 0.0 0.0 0.0 0.0 0.0 0.0 0.0 0.0 0.0 0.0 0.0 0.0 0.0 0.0 0.0 0.0 0.0 0.0 0.0 0.0 0.001 \n",
      "\n",
      "23: 0.0 0.0 0.0 0.0 0.0 0.0 0.0 2.0 0.0 0.0 0.0 1.0 0.0 0.0 0.0 0.0 0.0 0.0 0.0 0.0 0.0 0.0 0.0 -3.3 0.2 0.0 0.1 0.0 0.0 0.0 0.0 0.0 0.0 0.0 0.0 0.0 0.0 0.0 0.0 0.0 0.0 0.0 0.0 0.0 \n",
      "\n",
      "24: 0.0 0.0 0.0 0.0 0.0 0.0 0.0 0.0 0.0 1.0 0.0 0.0 0.0 0.0 0.0 0.0 0.0 0.0 0.0 0.0 0.0 0.0 0.0 0.1 -1.3 0.1 0.0 0.1 0.0 0.0 0.0 0.0 0.0 0.0 0.0 0.0 0.0 0.0 0.0 0.0 0.0 0.0 0.0 0.0 \n",
      "\n",
      "25: 0.0 0.0 0.0 0.0 0.0 0.0 0.0 0.0 0.0 0.0 0.0 0.0 0.0 2.0 0.0 0.0 0.0 0.0 0.0 0.0 0.0 0.0 0.0 0.0 0.2 -2.3000000000000003 0.0 0.0 0.1 0.0 0.0 0.0 0.0 0.0 0.0 0.0 0.0 0.0 0.0 0.0 0.0 0.0 0.0 0.0 \n",
      "\n",
      "26: 0.0 0.0 0.0 0.0 0.0 0.0 0.0 0.0 0.0 0.0 0.0 0.0 1.0 0.0 0.0 0.0 0.0 0.0 0.0 0.0 0.0 0.0 0.0 0.1 0.0 0.0 -1.3 0.2 0.0 0.0 0.0 0.0 0.0 0.0 0.0 0.0 0.0 0.0 0.0 0.0 0.0 0.0 0.0 0.0 \n",
      "\n",
      "27: 0.0 0.0 0.0 0.0 0.0 0.0 0.0 0.0 2.0 0.0 0.0 0.0 0.0 0.0 0.0 0.0 0.0 0.0 0.0 0.0 0.0 0.0 0.0 0.0 0.1 0.0 0.1 -2.3000000000000003 0.1 0.0 0.0 0.0 0.0 0.0 0.0 0.0 0.0 0.0 0.0 0.0 0.0 0.0 0.0 0.0 \n",
      "\n",
      "28: 0.0 0.0 0.0 0.0 0.0 0.0 0.0 0.0 0.0 0.0 4.0 0.0 0.0 0.0 2.0 0.0 0.0 0.0 0.0 0.0 0.0 0.0 0.0 0.0 0.0 0.1 0.0 0.2 -6.3 0.0 0.0 0.0 0.0 0.0 0.0 0.0 0.0 0.0 0.0 0.0 0.0 0.0 0.0 0.0 \n",
      "\n",
      "29: 0.0 0.0 0.0 2.0 0.0 0.0 0.0 0.0 0.0 0.0 0.0 1.0 0.0 0.0 0.0 0.0 0.0 0.0 0.0 0.0 0.0 0.0 0.0 0.0 0.0 0.0 0.0 0.0 0.0 -3.3 0.1 0.2 0.0 0.0 0.0 0.0 0.0 0.0 0.0 0.0 0.0 0.0 0.0 0.0 \n",
      "\n",
      "30: 0.0 0.0 0.0 0.0 0.0 0.0 0.0 0.0 0.0 0.0 0.0 0.0 0.0 1.0 0.0 0.0 0.0 0.0 0.0 0.0 0.0 0.0 0.0 0.0 0.0 0.0 0.0 0.0 0.0 0.1 -1.3 0.0 0.2 0.0 0.0 0.0 0.0 0.0 0.0 0.0 0.0 0.0 0.0 0.0 \n",
      "\n",
      "31: 0.0 0.0 0.0 0.0 0.0 1.0 0.0 0.0 0.0 0.0 0.0 0.0 0.0 0.0 0.0 0.0 0.0 0.0 0.0 0.0 0.0 0.0 0.0 0.0 0.0 0.0 0.0 0.0 0.0 0.1 0.0 -1.3 0.1 0.1 0.0 0.0 0.0 0.0 0.0 0.0 0.0 0.0 0.0 0.0 \n",
      "\n",
      "32: 0.0 0.0 0.0 0.0 2.0 0.0 0.0 0.0 0.0 0.0 0.0 0.0 0.0 0.0 0.0 0.0 0.0 0.0 0.0 0.0 0.0 0.0 0.0 0.0 0.0 0.0 0.0 0.0 0.0 0.0 0.1 0.1 -2.3000000000000003 0.0 0.1 0.0 0.0 0.0 0.0 0.0 0.0 0.0 0.0 0.0 \n",
      "\n",
      "33: 0.0 0.0 0.0 0.0 0.0 0.0 0.0 0.0 0.0 0.0 0.0 0.0 2.0 0.0 0.0 0.0 0.0 0.0 0.0 0.0 0.0 0.0 0.0 0.0 0.0 0.0 0.0 0.0 0.0 0.0 0.0 0.2 0.0 -2.3000000000000003 0.1 0.0 0.0 0.0 0.0 0.0 0.0 0.0 0.0 0.0 \n",
      "\n",
      "34: 0.0 0.0 0.0 0.0 0.0 0.0 4.0 0.0 0.0 0.0 0.0 0.0 0.0 0.0 2.0 0.0 0.0 0.0 0.0 0.0 0.0 0.0 0.0 0.0 0.0 0.0 0.0 0.0 0.0 0.0 0.0 0.0 0.2 0.1 -6.3 0.0 0.0 0.0 0.0 0.0 0.0 0.0 0.0 0.0 \n",
      "\n",
      "35: 0.0 0.0 0.0 0.0 0.0 0.0 0.0 0.0 0.0 0.0 0.0 0.0 0.0 0.0 0.0 4.0 0.0 0.0 0.0 0.0 0.0 0.0 0.0 1.0 0.0 0.0 0.0 0.0 0.0 1.0 0.0 0.0 0.0 0.0 0.0 -6.4 0.2 0.0 0.2 0.0 0.0 0.0 0.0 0.0 \n",
      "\n",
      "36: 0.0 0.0 0.0 0.0 0.0 0.0 0.0 0.0 0.0 0.0 0.0 0.0 0.0 0.0 0.0 0.0 0.0 2.0 0.0 0.0 0.0 0.0 0.0 0.0 1.0 0.0 0.0 0.0 0.0 0.0 0.0 0.0 0.0 0.0 0.0 0.1 -3.4 0.1 0.0 0.2 0.0 0.0 0.0 0.0 \n",
      "\n",
      "37: 0.0 0.0 0.0 0.0 0.0 0.0 0.0 0.0 0.0 0.0 0.0 0.0 0.0 0.0 0.0 0.0 0.0 0.0 0.0 0.0 0.0 0.0 0.0 0.0 0.0 1.0 0.0 0.0 0.0 0.0 2.0 0.0 0.0 0.0 0.0 0.0 0.2 -3.4000000000000004 0.0 0.0 0.2 0.0 0.0 0.0 \n",
      "\n",
      "38: 0.0 0.0 0.0 0.0 0.0 0.0 0.0 0.0 0.0 0.0 0.0 0.0 0.0 0.0 0.0 0.0 0.0 0.0 0.0 2.0 0.0 0.0 0.0 0.0 0.0 0.0 0.0 0.0 0.0 0.0 0.0 1.0 0.0 0.0 0.0 0.1 0.0 0.0 -3.4 0.2 0.0 0.1 0.0 0.0 \n",
      "\n",
      "39: 0.0 0.0 0.0 0.0 0.0 0.0 0.0 0.0 0.0 0.0 0.0 0.0 0.0 0.0 0.0 0.0 2.0 0.0 0.0 0.0 0.0 1.0 0.0 0.0 0.0 0.0 0.0 0.0 0.0 0.0 0.0 0.0 0.0 0.0 0.0 0.0 0.1 0.0 0.1 -3.4000000000000004 0.1 0.0 0.1 0.0 \n",
      "\n",
      "40: 0.0 0.0 0.0 0.0 0.0 0.0 0.0 0.0 0.0 0.0 0.0 0.0 0.0 0.0 0.0 0.0 0.0 0.0 4.0 0.0 0.0 0.0 0.0 0.0 0.0 0.0 0.0 0.0 0.0 0.0 0.0 0.0 2.0 0.0 0.0 0.0 0.0 0.1 0.0 0.2 -6.3999999999999995 0.0 0.0 0.1 \n",
      "\n",
      "41: 0.0 0.0 0.0 0.0 0.0 0.0 0.0 0.0 0.0 0.0 0.0 0.0 0.0 0.0 0.0 0.0 0.0 0.0 0.0 0.0 0.0 0.0 0.0 0.0 0.0 0.0 2.0 0.0 0.0 0.0 0.0 0.0 0.0 1.0 0.0 0.0 0.0 0.0 0.2 0.0 0.0 -3.4000000000000004 0.2 0.0 \n",
      "\n",
      "42: 0.0 0.0 0.0 0.0 0.0 0.0 0.0 0.0 0.0 0.0 0.0 0.0 0.0 0.0 0.0 0.0 0.0 0.0 0.0 0.0 4.0 0.0 0.0 0.0 0.0 0.0 0.0 2.0 0.0 0.0 0.0 0.0 0.0 0.0 0.0 0.0 0.0 0.0 0.0 0.2 0.0 0.1 -6.3999999999999995 0.1 \n",
      "\n",
      "43: 0.0 0.0 0.0 0.0 0.0 0.0 0.0 0.0 0.0 0.0 0.0 0.0 0.0 0.0 0.0 0.0 0.0 0.0 0.0 0.0 0.0 0.0 8.0 0.0 0.0 0.0 0.0 0.0 2.0 0.0 0.0 0.0 0.0 0.0 2.0 0.0 0.0 0.0 0.0 0.0 0.2 0.0 0.2 -12.4 \n",
      "\n"
     ]
    }
   ],
   "source": [
    "M1 = dot(M,params(0))\n",
    "\n",
    "for i in range(Mdim):\n",
    "    print(i, end=\": \")\n",
    "    for j in range(Mdim):\n",
    "        print(M1[i, j], \" \", sep=\"\", end=\"\")\n",
    "    \n",
    "    print(\"\\n\")"
   ]
  },
  {
   "cell_type": "code",
   "execution_count": 11,
   "id": "d10437f7",
   "metadata": {},
   "outputs": [
    {
     "data": {
      "text/plain": [
       "array([[[ 0,  1],\n",
       "        [ 0, -1]],\n",
       "\n",
       "       [[ 2,  3],\n",
       "        [-2, -3]]])"
      ]
     },
     "execution_count": 11,
     "metadata": {},
     "output_type": "execute_result"
    }
   ],
   "source": [
    "tmp = np.array([[[0,1],[2,3]],[[-0,-1],[-2,-3]]])\n",
    "np.transpose(tmp,(1,0,2))"
   ]
  },
  {
   "cell_type": "code",
   "execution_count": null,
   "id": "280b2ad3",
   "metadata": {},
   "outputs": [],
   "source": []
  }
 ],
 "metadata": {
  "kernelspec": {
   "display_name": "Python 3 (ipykernel)",
   "language": "python",
   "name": "python3"
  },
  "language_info": {
   "codemirror_mode": {
    "name": "ipython",
    "version": 3
   },
   "file_extension": ".py",
   "mimetype": "text/x-python",
   "name": "python",
   "nbconvert_exporter": "python",
   "pygments_lexer": "ipython3",
   "version": "3.9.5"
  }
 },
 "nbformat": 4,
 "nbformat_minor": 5
}
